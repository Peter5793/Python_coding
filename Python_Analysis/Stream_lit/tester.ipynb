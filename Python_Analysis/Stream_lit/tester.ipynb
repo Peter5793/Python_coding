{
 "cells": [
  {
   "cell_type": "code",
   "execution_count": 16,
   "id": "e314bd81",
   "metadata": {},
   "outputs": [],
   "source": [
    "import pandas as pd\n",
    "import numpy as np\n",
    "import matplotlib as plt\n",
    "import seaborn as sns\n",
    "import nltk \n",
    "import re\n",
    "import string\n",
    "import streamlit as st\n",
    "from nltk.stem import WordNetLemmatizer"
   ]
  },
  {
   "cell_type": "code",
   "execution_count": 17,
   "id": "c9b244a0",
   "metadata": {},
   "outputs": [
    {
     "name": "stderr",
     "output_type": "stream",
     "text": [
      "[nltk_data] Error loading stopwords: <urlopen error [WinError 10060] A\n",
      "[nltk_data]     connection attempt failed because the connected party\n",
      "[nltk_data]     did not properly respond after a period of time, or\n",
      "[nltk_data]     established connection failed because connected host\n",
      "[nltk_data]     has failed to respond>\n"
     ]
    }
   ],
   "source": [
    "nltk.download('stopwords')\n",
    "stopwords = nltk.corpus.stopwords.words('english')\n",
    "lemmatizer = WordNetLemmatizer()"
   ]
  },
  {
   "cell_type": "code",
   "execution_count": 3,
   "id": "2f8ce1fa",
   "metadata": {},
   "outputs": [
    {
     "data": {
      "text/html": [
       "<div>\n",
       "<style scoped>\n",
       "    .dataframe tbody tr th:only-of-type {\n",
       "        vertical-align: middle;\n",
       "    }\n",
       "\n",
       "    .dataframe tbody tr th {\n",
       "        vertical-align: top;\n",
       "    }\n",
       "\n",
       "    .dataframe thead th {\n",
       "        text-align: right;\n",
       "    }\n",
       "</style>\n",
       "<table border=\"1\" class=\"dataframe\">\n",
       "  <thead>\n",
       "    <tr style=\"text-align: right;\">\n",
       "      <th></th>\n",
       "      <th>comment</th>\n",
       "      <th>outcome</th>\n",
       "    </tr>\n",
       "  </thead>\n",
       "  <tbody>\n",
       "    <tr>\n",
       "      <th>0</th>\n",
       "      <td>This film is absolutely awful, but nevertheles...</td>\n",
       "      <td>0</td>\n",
       "    </tr>\n",
       "    <tr>\n",
       "      <th>1</th>\n",
       "      <td>Well since seeing part's 1 through 3 I can hon...</td>\n",
       "      <td>0</td>\n",
       "    </tr>\n",
       "    <tr>\n",
       "      <th>2</th>\n",
       "      <td>I got to see this film at a preview and was da...</td>\n",
       "      <td>1</td>\n",
       "    </tr>\n",
       "    <tr>\n",
       "      <th>3</th>\n",
       "      <td>This adaptation positively butchers a classic ...</td>\n",
       "      <td>0</td>\n",
       "    </tr>\n",
       "    <tr>\n",
       "      <th>4</th>\n",
       "      <td>Råzone is an awful movie! It is so simple. It ...</td>\n",
       "      <td>0</td>\n",
       "    </tr>\n",
       "  </tbody>\n",
       "</table>\n",
       "</div>"
      ],
      "text/plain": [
       "                                             comment  outcome\n",
       "0  This film is absolutely awful, but nevertheles...        0\n",
       "1  Well since seeing part's 1 through 3 I can hon...        0\n",
       "2  I got to see this film at a preview and was da...        1\n",
       "3  This adaptation positively butchers a classic ...        0\n",
       "4  Råzone is an awful movie! It is so simple. It ...        0"
      ]
     },
     "execution_count": 3,
     "metadata": {},
     "output_type": "execute_result"
    }
   ],
   "source": [
    "data = pd.read_csv('train_data (1).csv')\n",
    "#rename the columns\n",
    "name = ['comment', 'outcome']\n",
    "data.columns = name\n",
    "data.head()"
   ]
  },
  {
   "cell_type": "code",
   "execution_count": 6,
   "id": "336f970f",
   "metadata": {},
   "outputs": [],
   "source": [
    "# replace the outcome into numerical\n",
    "data['outcome'] = data['outcome'].replace(0, 'Negative')\n",
    "data['outcome'] = data['outcome'].replace(1, 'Positive')"
   ]
  },
  {
   "cell_type": "code",
   "execution_count": 11,
   "id": "916d4d84",
   "metadata": {},
   "outputs": [
    {
     "name": "stdout",
     "output_type": "stream",
     "text": [
      "negative    12500\n",
      "positive    12500\n",
      "Name: outcome, dtype: int64\n"
     ]
    },
    {
     "data": {
      "text/plain": [
       "<AxesSubplot:xlabel='outcome', ylabel='count'>"
      ]
     },
     "execution_count": 11,
     "metadata": {},
     "output_type": "execute_result"
    },
    {
     "data": {
      "image/png": "[encoded data removed]",
      "text/plain": [
       "<Figure size 432x288 with 1 Axes>"
      ]
     },
     "metadata": {
      "needs_background": "light"
     },
     "output_type": "display_data"
    }
   ],
   "source": [
    "# data cleaning and text preprocessing\n",
    "print(data['outcome'].value_counts())\n",
    "sns.countplot(data = data, x = 'outcome')"
   ]
  },
  {
   "cell_type": "markdown",
   "id": "2c8c523c",
   "metadata": {},
   "source": [
    "## Text Preprocessing"
   ]
  },
  {
   "cell_type": "code",
   "execution_count": 14,
   "id": "507d5c81",
   "metadata": {},
   "outputs": [],
   "source": [
    "# lower the cases\n",
    "data['comment'] = data['comment'].apply(str.lower)"
   ]
  },
  {
   "cell_type": "code",
   "execution_count": 15,
   "id": "640ea38c",
   "metadata": {},
   "outputs": [
    {
     "data": {
      "text/plain": [
       "'this film is absolutely awful, but nevertheless, it can be hilarious at times, although this humor is entirely unintentional.<br /><br />the plot was beyond ridiculous. i don\\'t even think a 2 year-old would be convinced by the ludicrous idiocy that the film-makers tried to slap together into a story. however, on the positive side, some of the horrifically inane plot twists provide a great deal of humor. for example, \"wow, lady hogbottom has a giant missile hidden in her back yard!\" it gets worse (and even funnier), but i\\'ll spare you.<br /><br />the acting is generally laughable. most of the kids\\' roles are sort of cute, but not very believable. on the other hand, annie is pretty awful all-around. the adults don\\'t take their roles seriously at all, but this is largely a good thing. if they\\'d tried to be believable, the film would\\'ve been even worse. which is difficult to imagine.<br /><br />once you get past the overall crappiness of the movie, there are actually a few standout moments of almost-not-crappiness. the scene where lady hogbottom\\'s son runs away with the maid is surprisingly hilarious, though it\\'s an annoying letdown when they get caught by the police. the butler character, while very minor, is a ray of sunlight that almost, but never quite pierces through the gloom.<br /><br />watching this movie actually caused me physical pain. nevertheless, there were a few redeeming parts that made it almost watchable without beginning to hemorrhage internally. judged on its good parts alone, the movie would be about a 5; unfortunately, the rest of the movie hardly deserves a 1. thus, i give it a 3.<br /><br />that\\'s being pretty generous, i\\'d say.'"
      ]
     },
     "execution_count": 15,
     "metadata": {},
     "output_type": "execute_result"
    }
   ],
   "source": [
    "data['comment'] = data['comment'].apply(lambda x : ''.join(w for w in x.split() if w not in stopwords))"
   ]
  },
  {
   "cell_type": "markdown",
   "id": "42fd5168",
   "metadata": {},
   "source": [
    "The data is balanced since we have an equal number"
   ]
  },
  {
   "cell_type": "code",
   "execution_count": 5,
   "id": "2c4b2f23",
   "metadata": {},
   "outputs": [
    {
     "data": {
      "text/plain": [
       "(\"Well since seeing part's 1 through 3 I can honestly say that they should have NEVER made part 4. Everything from the tacky, and I DO mean tacky score to the really bad acting, I dare anyone to watch this and not be bored out of their minds.<br /><br />I mean parts 1 to 3 kept the vibe strong on the plot of Damion, but without him around in this one it's just not the same. Sure by the end of part 3 I was getting a little tired of the continued story line's, but it was a good closure at the end of the third one. Again there was no reason for a part 4. Even if there was they could have done a MUCH better job than this sh*t I had to sit through, lol. There goes an hour and a half of my life i'll never see again.\",\n",
       " 0)"
      ]
     },
     "execution_count": 5,
     "metadata": {},
     "output_type": "execute_result"
    }
   ],
   "source": [
    "data_2 = data.apply(tuple, axis = 1)\n",
    "data_2[1]"
   ]
  },
  {
   "cell_type": "code",
   "execution_count": 6,
   "id": "b7bb3449",
   "metadata": {},
   "outputs": [
    {
     "data": {
      "text/plain": [
       "25000"
      ]
     },
     "execution_count": 6,
     "metadata": {},
     "output_type": "execute_result"
    }
   ],
   "source": [
    "data_2 = list(data_2)\n",
    "len(data_2)"
   ]
  },
  {
   "cell_type": "code",
   "execution_count": 8,
   "id": "b8ebded1",
   "metadata": {},
   "outputs": [],
   "source": [
    "import river\n"
   ]
  },
  {
   "cell_type": "code",
   "execution_count": null,
   "id": "9ff52b6e",
   "metadata": {},
   "outputs": [],
   "source": []
  }
 ],
 "metadata": {
  "kernelspec": {
   "display_name": "Python 3 (ipykernel)",
   "language": "python",
   "name": "python3"
  },
  "language_info": {
   "codemirror_mode": {
    "name": "ipython",
    "version": 3
   },
   "file_extension": ".py",
   "mimetype": "text/x-python",
   "name": "python",
   "nbconvert_exporter": "python",
   "pygments_lexer": "ipython3",
   "version": "3.9.7"
  }
 },
 "nbformat": 4,
 "nbformat_minor": 5
}
