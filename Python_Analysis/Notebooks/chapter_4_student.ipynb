{
 "cells": [
  {
   "cell_type": "markdown",
   "metadata": {},
   "source": [
    "# Vehicle Loan Prediction Machine Learning Model\n",
    "\n",
    "# Chapter 4 - Feature Engineering"
   ]
  },
  {
   "cell_type": "markdown",
   "metadata": {},
   "source": [
    "### Recap and Load\n",
    "\n",
    "- As always, let's begin by importing our libraries and loading the data\n",
    "- Notice that we have a new import from sklearn.preprocessing"
   ]
  },
  {
   "cell_type": "code",
   "execution_count": 1,
   "metadata": {},
   "outputs": [],
   "source": [
    "import pandas as pd\n",
    "import matplotlib.pyplot as plt\n",
    "import numpy as np\n",
    "import seaborn as sns\n",
    "from sklearn.preprocessing import MinMaxScaler"
   ]
  },
  {
   "cell_type": "code",
   "execution_count": 2,
   "metadata": {},
   "outputs": [],
   "source": [
    "loan_df = pd.read_csv('../data/vehicle_loans_eda.csv', index_col='UNIQUEID')"
   ]
  },
  {
   "cell_type": "markdown",
   "metadata": {},
   "source": [
    "Let’s bring in the explore_categorical and explore_continuous functions we created in chapter 3"
   ]
  },
  {
   "cell_type": "code",
   "execution_count": 4,
   "metadata": {},
   "outputs": [],
   "source": [
    "#explore categorical\n",
    "def explore_categorical(col_name):\n",
    "    print('{} Column Name'.format(col_name))\n",
    "    print('\\n')\n",
    "    print('{} Counts'.format(loan_df[col_name].value_counts()))\n",
    "    print('\\n')\n",
    "    print('{} Counts'.format(loan_df[col_name].value_counts(normalize = True)))\n",
    "    print('Group by')\n",
    "    print(loan_df.groupby(col_name)['LOAN_DEFAULT'].value_counts().unstack(level = 1))\n",
    "    sns.catplot(data = loan_df, x = col_name, hue = 'LOAN_DEFAULT', kind = 'count')\n",
    "    plt.show()\n",
    "    \n",
    "    "
   ]
  },
  {
   "cell_type": "code",
   "execution_count": 8,
   "metadata": {},
   "outputs": [],
   "source": [
    "#explore continuous\n",
    "def explore_continuous(col_name):\n",
    "    print(loan_df[col_name].describe())\n",
    "    print('###############')\n",
    "    sns.boxplot(data= loan_df, x = col_name)\n",
    "    print('####################')\n",
    "    sns.boxplot(data = loan_df, x = col_name, y = 'LOAN_DEFAULT', orient = 'h')\n",
    "    plt.show()"
   ]
  },
  {
   "cell_type": "markdown",
   "metadata": {},
   "source": [
    "## Lesson 1 - Binning\n",
    "\n",
    "Our first lesson is all about binning, so make sure you have covered the theory lesson that accompanies this chapter\n",
    "\n",
    "In our exploratory analysis, we observed that disbursed amount had some extremely large values?\n",
    "\n",
    "Let's take another look at that with our explore_continuous function"
   ]
  },
  {
   "cell_type": "code",
   "execution_count": 9,
   "metadata": {},
   "outputs": [
    {
     "name": "stdout",
     "output_type": "stream",
     "text": [
      "count    233154.000000\n",
      "mean      54356.993528\n",
      "std       12971.314171\n",
      "min       13320.000000\n",
      "25%       47145.000000\n",
      "50%       53803.000000\n",
      "75%       60413.000000\n",
      "max      990572.000000\n",
      "Name: DISBURSED_AMOUNT, dtype: float64\n",
      "###############\n",
      "####################\n"
     ]
    },
    {
     "data": {
      "image/png": "[encoded data removed]",
      "text/plain": [
       "<Figure size 432x288 with 1 Axes>"
      ]
     },
     "metadata": {
      "needs_background": "light"
     },
     "output_type": "display_data"
    }
   ],
   "source": [
    "#explore disbursed amount\n",
    "explore_continuous('DISBURSED_AMOUNT')"
   ]
  },
  {
   "cell_type": "code",
   "execution_count": 6,
   "metadata": {},
   "outputs": [
    {
     "data": {
      "text/plain": [
       "Index(['DISBURSED_AMOUNT', 'ASSET_COST', 'LTV', 'BRANCH_ID', 'SUPPLIER_ID',\n",
       "       'MANUFACTURER_ID', 'CURRENT_PINCODE_ID', 'EMPLOYMENT_TYPE', 'STATE_ID',\n",
       "       'EMPLOYEE_CODE_ID', 'MOBILENO_AVL_FLAG', 'AADHAR_FLAG', 'PAN_FLAG',\n",
       "       'VOTERID_FLAG', 'DRIVING_FLAG', 'PASSPORT_FLAG', 'PERFORM_CNS_SCORE',\n",
       "       'PERFORM_CNS_SCORE_DESCRIPTION', 'PRI_NO_OF_ACCTS', 'PRI_ACTIVE_ACCTS',\n",
       "       'PRI_OVERDUE_ACCTS', 'PRI_CURRENT_BALANCE', 'PRI_SANCTIONED_AMOUNT',\n",
       "       'PRI_DISBURSED_AMOUNT', 'SEC_NO_OF_ACCTS', 'SEC_ACTIVE_ACCTS',\n",
       "       'SEC_OVERDUE_ACCTS', 'SEC_CURRENT_BALANCE', 'SEC_SANCTIONED_AMOUNT',\n",
       "       'SEC_DISBURSED_AMOUNT', 'PRIMARY_INSTAL_AMT', 'SEC_INSTAL_AMT',\n",
       "       'NEW_ACCTS_IN_LAST_SIX_MONTHS', 'DELINQUENT_ACCTS_IN_LAST_SIX_MONTHS',\n",
       "       'NO_OF_INQUIRIES', 'LOAN_DEFAULT', 'AGE', 'DISBURSAL_MONTH',\n",
       "       'AVERAGE_ACCT_AGE_MONTHS', 'CREDIT_HISTORY_LENGTH_MONTHS'],\n",
       "      dtype='object')"
      ]
     },
     "execution_count": 6,
     "metadata": {},
     "output_type": "execute_result"
    }
   ],
   "source": [
    "loan_df.columns"
   ]
  },
  {
   "cell_type": "markdown",
   "metadata": {},
   "source": [
    "Notice that the largest value here is 990,572 this is considerably larger than the next largest value which is also an extreme outlier \n",
    "\n",
    "Is it possible that this could be an error in the data?\n",
    "- If we assume that the disbursal amount is stored in Indian rupees then 990,572 equates to ~ £10,000 or $13,400\n",
    "- Indeed a lot of money but not impossible for a car loan \n",
    "\n",
    "Let's check the row data, LTV and ASSET_COST should give us an idea about whether or not this is a valid piece of data \n",
    "\n",
    "Pandas gives us the [idxmax](https://pandas.pydata.org/pandas-docs/version/0.17.0/generated/pandas.DataFrame.idxmax.html) function to find the index of the row with the maximum value of a column"
   ]
  },
  {
   "cell_type": "code",
   "execution_count": 10,
   "metadata": {},
   "outputs": [
    {
     "data": {
      "text/plain": [
       "440173"
      ]
     },
     "execution_count": 10,
     "metadata": {},
     "output_type": "execute_result"
    }
   ],
   "source": [
    "#get row index of max disbursed amount\n",
    "loan_df['DISBURSED_AMOUNT'].idxmax()"
   ]
  },
  {
   "cell_type": "markdown",
   "metadata": {},
   "source": [
    "Now we have the row index but how can we select the row?\n",
    "\n",
    "Dataframe rows can be selected by their index using the [loc](https://pandas.pydata.org/pandas-docs/stable/reference/api/pandas.DataFrame.loc.html) function"
   ]
  },
  {
   "cell_type": "code",
   "execution_count": 13,
   "metadata": {},
   "outputs": [
    {
     "data": {
      "text/plain": [
       "DISBURSED_AMOUNT                                                                  990572\n",
       "ASSET_COST                                                                       1628992\n",
       "LTV                                                                                61.39\n",
       "BRANCH_ID                                                                            138\n",
       "SUPPLIER_ID                                                                        24062\n",
       "MANUFACTURER_ID                                                                      152\n",
       "CURRENT_PINCODE_ID                                                                  3368\n",
       "EMPLOYMENT_TYPE                                                                  Missing\n",
       "STATE_ID                                                                               9\n",
       "EMPLOYEE_CODE_ID                                                                    2934\n",
       "MOBILENO_AVL_FLAG                                                                      1\n",
       "AADHAR_FLAG                                                                            1\n",
       "PAN_FLAG                                                                               1\n",
       "VOTERID_FLAG                                                                           0\n",
       "DRIVING_FLAG                                                                           0\n",
       "PASSPORT_FLAG                                                                          0\n",
       "PERFORM_CNS_SCORE                                                                     16\n",
       "PERFORM_CNS_SCORE_DESCRIPTION          Not Scored: No Activity seen on the customer (...\n",
       "PRI_NO_OF_ACCTS                                                                        1\n",
       "PRI_ACTIVE_ACCTS                                                                       0\n",
       "PRI_OVERDUE_ACCTS                                                                      1\n",
       "PRI_CURRENT_BALANCE                                                                    0\n",
       "PRI_SANCTIONED_AMOUNT                                                                  0\n",
       "PRI_DISBURSED_AMOUNT                                                                   0\n",
       "SEC_NO_OF_ACCTS                                                                        0\n",
       "SEC_ACTIVE_ACCTS                                                                       0\n",
       "SEC_OVERDUE_ACCTS                                                                      0\n",
       "SEC_CURRENT_BALANCE                                                                    0\n",
       "SEC_SANCTIONED_AMOUNT                                                                  0\n",
       "SEC_DISBURSED_AMOUNT                                                                   0\n",
       "PRIMARY_INSTAL_AMT                                                                  6224\n",
       "SEC_INSTAL_AMT                                                                         0\n",
       "NEW_ACCTS_IN_LAST_SIX_MONTHS                                                           0\n",
       "DELINQUENT_ACCTS_IN_LAST_SIX_MONTHS                                                    0\n",
       "NO_OF_INQUIRIES                                                                        0\n",
       "LOAN_DEFAULT                                                                           0\n",
       "AGE                                                                                   28\n",
       "DISBURSAL_MONTH                                                                        8\n",
       "AVERAGE_ACCT_AGE_MONTHS                                                               70\n",
       "CREDIT_HISTORY_LENGTH_MONTHS                                                          70\n",
       "Name: 440173, dtype: object"
      ]
     },
     "execution_count": 13,
     "metadata": {},
     "output_type": "execute_result"
    }
   ],
   "source": [
    "#use idmax to get row \n",
    "loan_df.loc[loan_df['DISBURSED_AMOUNT'].idxmax()]"
   ]
  },
  {
   "cell_type": "markdown",
   "metadata": {},
   "source": [
    "Ok, it seems reasonable that the applicant borrowed 990,572 to pay for a car that cost 1,628,992. Let's assume a legitimate value that we want to include in our model \n",
    "\n",
    "One way we can keep extreme values without them skewing the data is through binning\n",
    "- Creating categorical groups from continuous variables \n",
    "\n",
    "Let's create some bins based on the disbursed amount\n"
   ]
  },
  {
   "cell_type": "code",
   "execution_count": 14,
   "metadata": {},
   "outputs": [],
   "source": [
    "#create buckets for disbursed amount\n",
    "disbursed_buckets = [13000, 30000, 45000, 60000, 75000, 150000, 1000000]\n",
    "disbursed_labels = ['13k - 30k', '30k - 45k', '45k - 60k', '60k - 75k', '75k - 150k', '150k - 1m']"
   ]
  },
  {
   "cell_type": "markdown",
   "metadata": {},
   "source": [
    "Great, now we need to use these bins to categorize our rows based on their disbursed amounts\n",
    "\n",
    "Pandas provides the [cut](https://pandas.pydata.org/pandas-docs/stable/reference/api/pandas.cut.html) which allows us to create buckets and labels"
   ]
  },
  {
   "cell_type": "code",
   "execution_count": 17,
   "metadata": {},
   "outputs": [],
   "source": [
    "#use cut to assign rows to new buckets\n",
    "loan_df['DISBURSED_AMOUNT_CAT'] = pd.cut(loan_df['DISBURSED_AMOUNT'], disbursed_buckets, labels = disbursed_labels)"
   ]
  },
  {
   "cell_type": "markdown",
   "metadata": {},
   "source": [
    "Let's use explore_categorical to take a look at our new column!"
   ]
  },
  {
   "cell_type": "code",
   "execution_count": 18,
   "metadata": {},
   "outputs": [
    {
     "name": "stdout",
     "output_type": "stream",
     "text": [
      "DISBURSED_AMOUNT_CAT Column Name\n",
      "\n",
      "\n",
      "45k - 60k     126904\n",
      "60k - 75k      49824\n",
      "30k - 45k      40626\n",
      "75k - 150k     10871\n",
      "13k - 30k       4865\n",
      "150k - 1m         64\n",
      "Name: DISBURSED_AMOUNT_CAT, dtype: int64 Counts\n",
      "\n",
      "\n",
      "45k - 60k     0.544293\n",
      "60k - 75k     0.213696\n",
      "30k - 45k     0.174245\n",
      "75k - 150k    0.046626\n",
      "13k - 30k     0.020866\n",
      "150k - 1m     0.000274\n",
      "Name: DISBURSED_AMOUNT_CAT, dtype: float64 Counts\n",
      "Group by\n",
      "LOAN_DEFAULT              0      1\n",
      "DISBURSED_AMOUNT_CAT              \n",
      "13k - 30k              4207    658\n",
      "30k - 45k             34323   6303\n",
      "45k - 60k             98830  28074\n",
      "60k - 75k             37056  12768\n",
      "75k - 150k             8070   2801\n",
      "150k - 1m                57      7\n"
     ]
    },
    {
     "data": {
      "image/png": "[encoded data removed]",
      "text/plain": [
       "<Figure size 443.375x360 with 1 Axes>"
      ]
     },
     "metadata": {
      "needs_background": "light"
     },
     "output_type": "display_data"
    }
   ],
   "source": [
    "#explore new variable\n",
    "explore_categorical('DISBURSED_AMOUNT_CAT')"
   ]
  },
  {
   "cell_type": "markdown",
   "metadata": {},
   "source": [
    "Notice that the vast majority of loans fall in the '45k - 60k' bucket. \n",
    "\n",
    "Also, the higher the loan amount, the more likely it was to default except for loans in the very largest category"
   ]
  },
  {
   "cell_type": "markdown",
   "metadata": {},
   "source": [
    "## Lesson 2 - Combine Features"
   ]
  },
  {
   "cell_type": "markdown",
   "metadata": {},
   "source": [
    "### Disbursal Difference\n",
    "\n",
    "One brilliant feature of pandas, is that it allows us to easily create new columns by coming existing ones \n",
    "\n",
    "We can use mathematical operations to create new features from existing ones with just one line of code! \n",
    "\n",
    "- HINT: We already did this to create our AGE column in chapter 2\n",
    "\n",
    "Let's revisit this idea by creating a DISBURSAL_DIFFERENCE column which will be the difference between the ASSET_COST and the DISBURSED_AMOUNT"
   ]
  },
  {
   "cell_type": "code",
   "execution_count": 19,
   "metadata": {},
   "outputs": [],
   "source": [
    "#calculate disbursal difference\n",
    "loan_df['DISBURSAL_DIFFERENCE'] = loan_df['ASSET_COST'] - loan_df['DISBURSED_AMOUNT']"
   ]
  },
  {
   "cell_type": "markdown",
   "metadata": {},
   "source": [
    "Let's inspect our new column"
   ]
  },
  {
   "cell_type": "code",
   "execution_count": 20,
   "metadata": {},
   "outputs": [
    {
     "data": {
      "text/plain": [
       "UNIQUEID\n",
       "420825     7822\n",
       "537409    18405\n",
       "417566     8082\n",
       "624493     8600\n",
       "539055     7922\n",
       "          ...  \n",
       "626432    42192\n",
       "606141    26949\n",
       "613658    37728\n",
       "548084    39027\n",
       "630213    40258\n",
       "Name: DISBURSAL_DIFFERENCE, Length: 233154, dtype: int64"
      ]
     },
     "execution_count": 20,
     "metadata": {},
     "output_type": "execute_result"
    }
   ],
   "source": [
    "#inspect new column\n",
    "loan_df['DISBURSAL_DIFFERENCE']"
   ]
  },
  {
   "cell_type": "markdown",
   "metadata": {},
   "source": [
    "### Primary and Secondary Account Engineering\n",
    "\n",
    "The loan data contains 14 columns providing information about any existing loans a customer may have. This data is split according to primary and secondary accounts, a primary account is a loan where the customer is the sole recipient of the disbursal, \n",
    "a secondary account is one where the customer is a co-applicant or guarantor for the loan \n",
    "\n",
    "- PRI_NO_OF_ACCTS: count of total loans taken by the customer at the time of disbursement  \n",
    "- PRI_ACTIVE_ACCTS: count of active loans taken by the customer at the time of disbursement\n",
    "- PRI_OVERDUE_ACCTS: count of default accounts at the time of disbursement    \n",
    "- PRI_CURRENT_BALANCE: total Principal outstanding amount of the active loans at the time of disbursement        \n",
    "- PRI_SANCTIONED_AMOUNT: total amount that was sanctioned for all the loans at the time of disbursement  \n",
    "- PRI_DISBURSED_AMOUNT: total amount that was disbursed for all the loans at the time of disbursement\n",
    "- PRIMARY_INSTAL_AMT: EMI Amount of the primary loan\n",
    "- SEC_NO_OF_ACCTS: count of secondary total loans taken by the customer at the time of disbursement \n",
    "- SEC_ACTIVE_ACCTS: count of secondary active loans taken by the customer at the time of disbursement \n",
    "- SEC_OVERDUE_ACCTS: count of secondary accounts at the time of disbursement    \n",
    "- SEC_CURRENT_BALANCE: total Principal outstanding amount of the secondary active loans at the time of disbursement \n",
    "- SEC_SANCTIONED_AMOUNT: total amount that was sanctioned for all the secondary loans at the time of disbursement  \n",
    "- SEC_DISBURSED_AMOUNT: total amount that was disbursed for all the secondary loans at the time of disbursement\n",
    "- SEC_INSTAL_AMT: EMI Amount of the secondary loan \n",
    "\n",
    "If you haven’t done so already please take a few minutes to explore these primary and secondary account variables using the explore_continuous function\n",
    "\n",
    "Hopefully, you will see that in the majority of cases the data in these columns is limited\n",
    "\n",
    "Instead of simply dropping them, we will combine so we can reduce the complexity of our data without losing information\n",
    "\n",
    "For example, we can create a column 'TOTAL_ACCTS' to store the combined total of primary and secondary accounts\n"
   ]
  },
  {
   "cell_type": "code",
   "execution_count": 21,
   "metadata": {},
   "outputs": [],
   "source": [
    "#create new total accounts column\n",
    "loan_df['TOTAL_ACCTS'] = loan_df['PRI_NO_OF_ACCTS'] + loan_df['SEC_NO_OF_ACCTS']"
   ]
  },
  {
   "cell_type": "markdown",
   "metadata": {},
   "source": [
    "Let's look at the results of this just to sanity check"
   ]
  },
  {
   "cell_type": "code",
   "execution_count": 22,
   "metadata": {},
   "outputs": [
    {
     "data": {
      "text/plain": [
       "UNIQUEID\n",
       "420825    0\n",
       "537409    1\n",
       "417566    0\n",
       "624493    3\n",
       "539055    0\n",
       "         ..\n",
       "626432    4\n",
       "606141    1\n",
       "613658    0\n",
       "548084    0\n",
       "630213    0\n",
       "Name: TOTAL_ACCTS, Length: 233154, dtype: int64"
      ]
     },
     "execution_count": 22,
     "metadata": {},
     "output_type": "execute_result"
    }
   ],
   "source": [
    "#inspect new column\n",
    "loan_df['TOTAL_ACCTS']"
   ]
  },
  {
   "cell_type": "markdown",
   "metadata": {},
   "source": [
    "### EXERCISE\n",
    "\n",
    "- Use this example to create TOTAL_ columns from the remaining primary/secondary variables\n",
    "- HINT: After this, you should have 7 new columns including 'TOTAL_ACCTS'"
   ]
  },
  {
   "cell_type": "markdown",
   "metadata": {},
   "source": [
    "### SOLUTION"
   ]
  },
  {
   "cell_type": "code",
   "execution_count": 23,
   "metadata": {},
   "outputs": [],
   "source": [
    "# type solution here\n",
    "loan_df['TOTAL_ACTIVE_ACCTS'] = loan_df['PRI_ACTIVE_ACCTS'] + loan_df['SEC_ACTIVE_ACCTS']\n",
    "loan_df['TOTAL_OVERDUE_ACCTS'] = loan_df['PRI_OVERDUE_ACCTS'] + loan_df['SEC_OVERDUE_ACCTS']\n",
    "loan_df['TOTAL_CURRENT_BALANCE'] = loan_df['PRI_CURRENT_BALANCE'] + loan_df['SEC_CURRENT_BALANCE']\n",
    "loan_df['TOTAL_SANCTIONED_AMOUNT'] = loan_df['PRI_SANCTIONED_AMOUNT'] + loan_df['SEC_SANCTIONED_AMOUNT'] \n",
    "loan_df['TOTAL_DISBURSED_AMOUNT'] = loan_df['PRI_DISBURSED_AMOUNT'] + loan_df['SEC_DISBURSED_AMOUNT']\n",
    "loan_df['TOTAL_INSTAL_AMT'] = loan_df['PRIMARY_INSTAL_AMT'] + loan_df['SEC_INSTAL_AMT']"
   ]
  },
  {
   "cell_type": "markdown",
   "metadata": {},
   "source": [
    "Brilliant! Now we have simplified our dataset by combining the primary and secondary account columns \n",
    "\n",
    "Let's drop the ones we no longer need to avoid data duplication"
   ]
  },
  {
   "cell_type": "code",
   "execution_count": 37,
   "metadata": {},
   "outputs": [
    {
     "data": {
      "text/html": [
       "<div>\n",
       "<style scoped>\n",
       "    .dataframe tbody tr th:only-of-type {\n",
       "        vertical-align: middle;\n",
       "    }\n",
       "\n",
       "    .dataframe tbody tr th {\n",
       "        vertical-align: top;\n",
       "    }\n",
       "\n",
       "    .dataframe thead th {\n",
       "        text-align: right;\n",
       "    }\n",
       "</style>\n",
       "<table border=\"1\" class=\"dataframe\">\n",
       "  <thead>\n",
       "    <tr style=\"text-align: right;\">\n",
       "      <th></th>\n",
       "      <th>DISBURSED_AMOUNT</th>\n",
       "      <th>ASSET_COST</th>\n",
       "      <th>LTV</th>\n",
       "      <th>BRANCH_ID</th>\n",
       "      <th>SUPPLIER_ID</th>\n",
       "      <th>MANUFACTURER_ID</th>\n",
       "      <th>CURRENT_PINCODE_ID</th>\n",
       "      <th>EMPLOYMENT_TYPE</th>\n",
       "      <th>STATE_ID</th>\n",
       "      <th>EMPLOYEE_CODE_ID</th>\n",
       "      <th>...</th>\n",
       "      <th>DISBURSED_AMOUNT_CAT</th>\n",
       "      <th>DISBURSAL_DIFFERENCE</th>\n",
       "      <th>TOTAL_ACCTS</th>\n",
       "      <th>TOTAL_ACTIVE_ACCTS</th>\n",
       "      <th>TOTAL_OVERDUE_ACCTS</th>\n",
       "      <th>TOTAL_CURRENT_BALANCE</th>\n",
       "      <th>TOTAL_SANCTIONED_AMOUNT</th>\n",
       "      <th>TOTAL_DISBURSED_AMOUNT</th>\n",
       "      <th>TOTAL_INSTAL_AMT</th>\n",
       "      <th>OVERDUE_PCT</th>\n",
       "    </tr>\n",
       "    <tr>\n",
       "      <th>UNIQUEID</th>\n",
       "      <th></th>\n",
       "      <th></th>\n",
       "      <th></th>\n",
       "      <th></th>\n",
       "      <th></th>\n",
       "      <th></th>\n",
       "      <th></th>\n",
       "      <th></th>\n",
       "      <th></th>\n",
       "      <th></th>\n",
       "      <th></th>\n",
       "      <th></th>\n",
       "      <th></th>\n",
       "      <th></th>\n",
       "      <th></th>\n",
       "      <th></th>\n",
       "      <th></th>\n",
       "      <th></th>\n",
       "      <th></th>\n",
       "      <th></th>\n",
       "      <th></th>\n",
       "    </tr>\n",
       "  </thead>\n",
       "  <tbody>\n",
       "    <tr>\n",
       "      <th>420825</th>\n",
       "      <td>50578</td>\n",
       "      <td>58400</td>\n",
       "      <td>89.55</td>\n",
       "      <td>67</td>\n",
       "      <td>22807</td>\n",
       "      <td>45</td>\n",
       "      <td>1441</td>\n",
       "      <td>Salaried</td>\n",
       "      <td>6</td>\n",
       "      <td>1998</td>\n",
       "      <td>...</td>\n",
       "      <td>45k - 60k</td>\n",
       "      <td>7822</td>\n",
       "      <td>0</td>\n",
       "      <td>0</td>\n",
       "      <td>0</td>\n",
       "      <td>0</td>\n",
       "      <td>0</td>\n",
       "      <td>0</td>\n",
       "      <td>0</td>\n",
       "      <td>0.0</td>\n",
       "    </tr>\n",
       "    <tr>\n",
       "      <th>537409</th>\n",
       "      <td>47145</td>\n",
       "      <td>65550</td>\n",
       "      <td>73.23</td>\n",
       "      <td>67</td>\n",
       "      <td>22807</td>\n",
       "      <td>45</td>\n",
       "      <td>1502</td>\n",
       "      <td>Self employed</td>\n",
       "      <td>6</td>\n",
       "      <td>1998</td>\n",
       "      <td>...</td>\n",
       "      <td>45k - 60k</td>\n",
       "      <td>18405</td>\n",
       "      <td>1</td>\n",
       "      <td>1</td>\n",
       "      <td>1</td>\n",
       "      <td>27600</td>\n",
       "      <td>50200</td>\n",
       "      <td>50200</td>\n",
       "      <td>1991</td>\n",
       "      <td>1.0</td>\n",
       "    </tr>\n",
       "    <tr>\n",
       "      <th>417566</th>\n",
       "      <td>53278</td>\n",
       "      <td>61360</td>\n",
       "      <td>89.63</td>\n",
       "      <td>67</td>\n",
       "      <td>22807</td>\n",
       "      <td>45</td>\n",
       "      <td>1497</td>\n",
       "      <td>Self employed</td>\n",
       "      <td>6</td>\n",
       "      <td>1998</td>\n",
       "      <td>...</td>\n",
       "      <td>45k - 60k</td>\n",
       "      <td>8082</td>\n",
       "      <td>0</td>\n",
       "      <td>0</td>\n",
       "      <td>0</td>\n",
       "      <td>0</td>\n",
       "      <td>0</td>\n",
       "      <td>0</td>\n",
       "      <td>0</td>\n",
       "      <td>0.0</td>\n",
       "    </tr>\n",
       "    <tr>\n",
       "      <th>624493</th>\n",
       "      <td>57513</td>\n",
       "      <td>66113</td>\n",
       "      <td>88.48</td>\n",
       "      <td>67</td>\n",
       "      <td>22807</td>\n",
       "      <td>45</td>\n",
       "      <td>1501</td>\n",
       "      <td>Self employed</td>\n",
       "      <td>6</td>\n",
       "      <td>1998</td>\n",
       "      <td>...</td>\n",
       "      <td>45k - 60k</td>\n",
       "      <td>8600</td>\n",
       "      <td>3</td>\n",
       "      <td>0</td>\n",
       "      <td>0</td>\n",
       "      <td>0</td>\n",
       "      <td>0</td>\n",
       "      <td>0</td>\n",
       "      <td>31</td>\n",
       "      <td>0.0</td>\n",
       "    </tr>\n",
       "    <tr>\n",
       "      <th>539055</th>\n",
       "      <td>52378</td>\n",
       "      <td>60300</td>\n",
       "      <td>88.39</td>\n",
       "      <td>67</td>\n",
       "      <td>22807</td>\n",
       "      <td>45</td>\n",
       "      <td>1495</td>\n",
       "      <td>Self employed</td>\n",
       "      <td>6</td>\n",
       "      <td>1998</td>\n",
       "      <td>...</td>\n",
       "      <td>45k - 60k</td>\n",
       "      <td>7922</td>\n",
       "      <td>0</td>\n",
       "      <td>0</td>\n",
       "      <td>0</td>\n",
       "      <td>0</td>\n",
       "      <td>0</td>\n",
       "      <td>0</td>\n",
       "      <td>0</td>\n",
       "      <td>0.0</td>\n",
       "    </tr>\n",
       "    <tr>\n",
       "      <th>...</th>\n",
       "      <td>...</td>\n",
       "      <td>...</td>\n",
       "      <td>...</td>\n",
       "      <td>...</td>\n",
       "      <td>...</td>\n",
       "      <td>...</td>\n",
       "      <td>...</td>\n",
       "      <td>...</td>\n",
       "      <td>...</td>\n",
       "      <td>...</td>\n",
       "      <td>...</td>\n",
       "      <td>...</td>\n",
       "      <td>...</td>\n",
       "      <td>...</td>\n",
       "      <td>...</td>\n",
       "      <td>...</td>\n",
       "      <td>...</td>\n",
       "      <td>...</td>\n",
       "      <td>...</td>\n",
       "      <td>...</td>\n",
       "      <td>...</td>\n",
       "    </tr>\n",
       "    <tr>\n",
       "      <th>626432</th>\n",
       "      <td>63213</td>\n",
       "      <td>105405</td>\n",
       "      <td>60.72</td>\n",
       "      <td>34</td>\n",
       "      <td>20700</td>\n",
       "      <td>48</td>\n",
       "      <td>1050</td>\n",
       "      <td>Salaried</td>\n",
       "      <td>6</td>\n",
       "      <td>3705</td>\n",
       "      <td>...</td>\n",
       "      <td>60k - 75k</td>\n",
       "      <td>42192</td>\n",
       "      <td>4</td>\n",
       "      <td>3</td>\n",
       "      <td>0</td>\n",
       "      <td>390443</td>\n",
       "      <td>416133</td>\n",
       "      <td>416133</td>\n",
       "      <td>4084</td>\n",
       "      <td>0.0</td>\n",
       "    </tr>\n",
       "    <tr>\n",
       "      <th>606141</th>\n",
       "      <td>73651</td>\n",
       "      <td>100600</td>\n",
       "      <td>74.95</td>\n",
       "      <td>34</td>\n",
       "      <td>23775</td>\n",
       "      <td>51</td>\n",
       "      <td>990</td>\n",
       "      <td>Self employed</td>\n",
       "      <td>6</td>\n",
       "      <td>3705</td>\n",
       "      <td>...</td>\n",
       "      <td>60k - 75k</td>\n",
       "      <td>26949</td>\n",
       "      <td>1</td>\n",
       "      <td>0</td>\n",
       "      <td>0</td>\n",
       "      <td>0</td>\n",
       "      <td>0</td>\n",
       "      <td>0</td>\n",
       "      <td>1565</td>\n",
       "      <td>0.0</td>\n",
       "    </tr>\n",
       "    <tr>\n",
       "      <th>613658</th>\n",
       "      <td>33484</td>\n",
       "      <td>71212</td>\n",
       "      <td>48.45</td>\n",
       "      <td>77</td>\n",
       "      <td>22186</td>\n",
       "      <td>86</td>\n",
       "      <td>2299</td>\n",
       "      <td>Salaried</td>\n",
       "      <td>4</td>\n",
       "      <td>3479</td>\n",
       "      <td>...</td>\n",
       "      <td>30k - 45k</td>\n",
       "      <td>37728</td>\n",
       "      <td>0</td>\n",
       "      <td>0</td>\n",
       "      <td>0</td>\n",
       "      <td>0</td>\n",
       "      <td>0</td>\n",
       "      <td>0</td>\n",
       "      <td>0</td>\n",
       "      <td>0.0</td>\n",
       "    </tr>\n",
       "    <tr>\n",
       "      <th>548084</th>\n",
       "      <td>34259</td>\n",
       "      <td>73286</td>\n",
       "      <td>49.10</td>\n",
       "      <td>77</td>\n",
       "      <td>22186</td>\n",
       "      <td>86</td>\n",
       "      <td>2299</td>\n",
       "      <td>Salaried</td>\n",
       "      <td>4</td>\n",
       "      <td>3479</td>\n",
       "      <td>...</td>\n",
       "      <td>30k - 45k</td>\n",
       "      <td>39027</td>\n",
       "      <td>0</td>\n",
       "      <td>0</td>\n",
       "      <td>0</td>\n",
       "      <td>0</td>\n",
       "      <td>0</td>\n",
       "      <td>0</td>\n",
       "      <td>0</td>\n",
       "      <td>0.0</td>\n",
       "    </tr>\n",
       "    <tr>\n",
       "      <th>630213</th>\n",
       "      <td>75751</td>\n",
       "      <td>116009</td>\n",
       "      <td>66.81</td>\n",
       "      <td>77</td>\n",
       "      <td>22186</td>\n",
       "      <td>86</td>\n",
       "      <td>2299</td>\n",
       "      <td>Salaried</td>\n",
       "      <td>4</td>\n",
       "      <td>3479</td>\n",
       "      <td>...</td>\n",
       "      <td>75k - 150k</td>\n",
       "      <td>40258</td>\n",
       "      <td>0</td>\n",
       "      <td>0</td>\n",
       "      <td>0</td>\n",
       "      <td>0</td>\n",
       "      <td>0</td>\n",
       "      <td>0</td>\n",
       "      <td>0</td>\n",
       "      <td>0.0</td>\n",
       "    </tr>\n",
       "  </tbody>\n",
       "</table>\n",
       "<p>233154 rows × 36 columns</p>\n",
       "</div>"
      ],
      "text/plain": [
       "          DISBURSED_AMOUNT  ASSET_COST    LTV  BRANCH_ID  SUPPLIER_ID  \\\n",
       "UNIQUEID                                                                \n",
       "420825               50578       58400  89.55         67        22807   \n",
       "537409               47145       65550  73.23         67        22807   \n",
       "417566               53278       61360  89.63         67        22807   \n",
       "624493               57513       66113  88.48         67        22807   \n",
       "539055               52378       60300  88.39         67        22807   \n",
       "...                    ...         ...    ...        ...          ...   \n",
       "626432               63213      105405  60.72         34        20700   \n",
       "606141               73651      100600  74.95         34        23775   \n",
       "613658               33484       71212  48.45         77        22186   \n",
       "548084               34259       73286  49.10         77        22186   \n",
       "630213               75751      116009  66.81         77        22186   \n",
       "\n",
       "          MANUFACTURER_ID  CURRENT_PINCODE_ID EMPLOYMENT_TYPE  STATE_ID  \\\n",
       "UNIQUEID                                                                  \n",
       "420825                 45                1441        Salaried         6   \n",
       "537409                 45                1502   Self employed         6   \n",
       "417566                 45                1497   Self employed         6   \n",
       "624493                 45                1501   Self employed         6   \n",
       "539055                 45                1495   Self employed         6   \n",
       "...                   ...                 ...             ...       ...   \n",
       "626432                 48                1050        Salaried         6   \n",
       "606141                 51                 990   Self employed         6   \n",
       "613658                 86                2299        Salaried         4   \n",
       "548084                 86                2299        Salaried         4   \n",
       "630213                 86                2299        Salaried         4   \n",
       "\n",
       "          EMPLOYEE_CODE_ID  ...  DISBURSED_AMOUNT_CAT  DISBURSAL_DIFFERENCE  \\\n",
       "UNIQUEID                    ...                                               \n",
       "420825                1998  ...             45k - 60k                  7822   \n",
       "537409                1998  ...             45k - 60k                 18405   \n",
       "417566                1998  ...             45k - 60k                  8082   \n",
       "624493                1998  ...             45k - 60k                  8600   \n",
       "539055                1998  ...             45k - 60k                  7922   \n",
       "...                    ...  ...                   ...                   ...   \n",
       "626432                3705  ...             60k - 75k                 42192   \n",
       "606141                3705  ...             60k - 75k                 26949   \n",
       "613658                3479  ...             30k - 45k                 37728   \n",
       "548084                3479  ...             30k - 45k                 39027   \n",
       "630213                3479  ...            75k - 150k                 40258   \n",
       "\n",
       "          TOTAL_ACCTS  TOTAL_ACTIVE_ACCTS  TOTAL_OVERDUE_ACCTS  \\\n",
       "UNIQUEID                                                         \n",
       "420825              0                   0                    0   \n",
       "537409              1                   1                    1   \n",
       "417566              0                   0                    0   \n",
       "624493              3                   0                    0   \n",
       "539055              0                   0                    0   \n",
       "...               ...                 ...                  ...   \n",
       "626432              4                   3                    0   \n",
       "606141              1                   0                    0   \n",
       "613658              0                   0                    0   \n",
       "548084              0                   0                    0   \n",
       "630213              0                   0                    0   \n",
       "\n",
       "          TOTAL_CURRENT_BALANCE  TOTAL_SANCTIONED_AMOUNT  \\\n",
       "UNIQUEID                                                   \n",
       "420825                        0                        0   \n",
       "537409                    27600                    50200   \n",
       "417566                        0                        0   \n",
       "624493                        0                        0   \n",
       "539055                        0                        0   \n",
       "...                         ...                      ...   \n",
       "626432                   390443                   416133   \n",
       "606141                        0                        0   \n",
       "613658                        0                        0   \n",
       "548084                        0                        0   \n",
       "630213                        0                        0   \n",
       "\n",
       "         TOTAL_DISBURSED_AMOUNT  TOTAL_INSTAL_AMT  OVERDUE_PCT  \n",
       "UNIQUEID                                                        \n",
       "420825                        0                 0          0.0  \n",
       "537409                    50200              1991          1.0  \n",
       "417566                        0                 0          0.0  \n",
       "624493                        0                31          0.0  \n",
       "539055                        0                 0          0.0  \n",
       "...                         ...               ...          ...  \n",
       "626432                   416133              4084          0.0  \n",
       "606141                        0              1565          0.0  \n",
       "613658                        0                 0          0.0  \n",
       "548084                        0                 0          0.0  \n",
       "630213                        0                 0          0.0  \n",
       "\n",
       "[233154 rows x 36 columns]"
      ]
     },
     "execution_count": 37,
     "metadata": {},
     "output_type": "execute_result"
    }
   ],
   "source": [
    "# drop primary and secondary columns\n",
    "loan_df = loan_df.drop( ['PRI_NO_OF_ACCTS', 'PRI_ACTIVE_ACCTS', 'PRI_OVERDUE_ACCTS', 'PRI_CURRENT_BALANCE', 'PRI_SANCTIONED_AMOUNT', 'PRI_DISBURSED_AMOUNT', 'PRIMARY_INSTAL_AMT', 'SEC_NO_OF_ACCTS', 'SEC_ACTIVE_ACCTS', 'SEC_OVERDUE_ACCTS', 'SEC_CURRENT_BALANCE', 'SEC_SANCTIONED_AMOUNT', 'SEC_DISBURSED_AMOUNT', 'SEC_INSTAL_AMT'], axis = 1)\n",
    "loan_df"
   ]
  },
  {
   "cell_type": "markdown",
   "metadata": {},
   "source": [
    "We may also be interested in calculating the percentage of overdue accounts a person has"
   ]
  },
  {
   "cell_type": "markdown",
   "metadata": {},
   "source": [
    "### EXERCISE\n",
    "\n",
    "- Create a column 'OVERDUE_PCT' that stores the percentage of overdue accounts\n",
    "\n",
    "### SOLUTION"
   ]
  },
  {
   "cell_type": "code",
   "execution_count": 27,
   "metadata": {},
   "outputs": [],
   "source": [
    "#type solution here\n",
    "loan_df['OVERDUE_PCT'] = loan_df['TOTAL_OVERDUE_ACCTS']/loan_df['TOTAL_ACCTS']"
   ]
  },
  {
   "cell_type": "markdown",
   "metadata": {},
   "source": [
    "Wait! We better check this new column for missing values, remember a lot of rows will have 0 'TOTAL_ACCTS'\n",
    "\n",
    "We can investigate using [isnull](https://pandas.pydata.org/pandas-docs/stable/reference/api/pandas.Series.isnull.html) and [sum](https://pandas.pydata.org/pandas-docs/stable/reference/api/pandas.Series.sum.html)"
   ]
  },
  {
   "cell_type": "code",
   "execution_count": 34,
   "metadata": {},
   "outputs": [
    {
     "data": {
      "text/plain": [
       "DISBURSED_AMOUNT                       0\n",
       "ASSET_COST                             0\n",
       "LTV                                    0\n",
       "BRANCH_ID                              0\n",
       "SUPPLIER_ID                            0\n",
       "MANUFACTURER_ID                        0\n",
       "CURRENT_PINCODE_ID                     0\n",
       "EMPLOYMENT_TYPE                        0\n",
       "STATE_ID                               0\n",
       "EMPLOYEE_CODE_ID                       0\n",
       "MOBILENO_AVL_FLAG                      0\n",
       "AADHAR_FLAG                            0\n",
       "PAN_FLAG                               0\n",
       "VOTERID_FLAG                           0\n",
       "DRIVING_FLAG                           0\n",
       "PASSPORT_FLAG                          0\n",
       "PERFORM_CNS_SCORE                      0\n",
       "PERFORM_CNS_SCORE_DESCRIPTION          0\n",
       "PRI_NO_OF_ACCTS                        0\n",
       "PRI_ACTIVE_ACCTS                       0\n",
       "PRI_OVERDUE_ACCTS                      0\n",
       "PRI_CURRENT_BALANCE                    0\n",
       "PRI_SANCTIONED_AMOUNT                  0\n",
       "PRI_DISBURSED_AMOUNT                   0\n",
       "SEC_NO_OF_ACCTS                        0\n",
       "SEC_ACTIVE_ACCTS                       0\n",
       "SEC_OVERDUE_ACCTS                      0\n",
       "SEC_CURRENT_BALANCE                    0\n",
       "SEC_SANCTIONED_AMOUNT                  0\n",
       "SEC_DISBURSED_AMOUNT                   0\n",
       "PRIMARY_INSTAL_AMT                     0\n",
       "SEC_INSTAL_AMT                         0\n",
       "NEW_ACCTS_IN_LAST_SIX_MONTHS           0\n",
       "DELINQUENT_ACCTS_IN_LAST_SIX_MONTHS    0\n",
       "NO_OF_INQUIRIES                        0\n",
       "LOAN_DEFAULT                           0\n",
       "AGE                                    0\n",
       "DISBURSAL_MONTH                        0\n",
       "AVERAGE_ACCT_AGE_MONTHS                0\n",
       "CREDIT_HISTORY_LENGTH_MONTHS           0\n",
       "DISBURSED_AMOUNT_CAT                   0\n",
       "DISBURSAL_DIFFERENCE                   0\n",
       "TOTAL_ACCTS                            0\n",
       "TOTAL_ACTIVE_ACCTS                     0\n",
       "TOTAL_OVERDUE_ACCTS                    0\n",
       "TOTAL_CURRENT_BALANCE                  0\n",
       "TOTAL_SANCTIONED_AMOUNT                0\n",
       "TOTAL_DISBURSED_AMOUNT                 0\n",
       "TOTAL_INSTAL_AMT                       0\n",
       "OVERDUE_PCT                            0\n",
       "dtype: int64"
      ]
     },
     "execution_count": 34,
     "metadata": {},
     "output_type": "execute_result"
    }
   ],
   "source": [
    "#check for missing values\n",
    "loan_df.isnull().sum()"
   ]
  },
  {
   "cell_type": "markdown",
   "metadata": {},
   "source": [
    "Ok, we have a lot of missing values we can fill them with 0s using [fillna](https://pandas.pydata.org/pandas-docs/stable/reference/api/pandas.Series.fillna.html)"
   ]
  },
  {
   "cell_type": "code",
   "execution_count": 32,
   "metadata": {},
   "outputs": [],
   "source": [
    "#fill missing values\n",
    "loan_df['OVERDUE_PCT'] = loan_df['OVERDUE_PCT'].fillna(0)"
   ]
  },
  {
   "cell_type": "code",
   "execution_count": 33,
   "metadata": {},
   "outputs": [],
   "source": [
    "loan_df = loan_df.drop(['OVERDUE_OCT'], axis=1)"
   ]
  },
  {
   "cell_type": "markdown",
   "metadata": {},
   "source": [
    "Let's use [isnull](https://pandas.pydata.org/pandas-docs/stable/reference/api/pandas.Series.isnull.html) and [sum](https://pandas.pydata.org/pandas-docs/stable/reference/api/pandas.Series.sum.html) again to make sure we no longer have missing values"
   ]
  },
  {
   "cell_type": "code",
   "execution_count": 35,
   "metadata": {},
   "outputs": [
    {
     "data": {
      "text/plain": [
       "DISBURSED_AMOUNT                       0\n",
       "ASSET_COST                             0\n",
       "LTV                                    0\n",
       "BRANCH_ID                              0\n",
       "SUPPLIER_ID                            0\n",
       "MANUFACTURER_ID                        0\n",
       "CURRENT_PINCODE_ID                     0\n",
       "EMPLOYMENT_TYPE                        0\n",
       "STATE_ID                               0\n",
       "EMPLOYEE_CODE_ID                       0\n",
       "MOBILENO_AVL_FLAG                      0\n",
       "AADHAR_FLAG                            0\n",
       "PAN_FLAG                               0\n",
       "VOTERID_FLAG                           0\n",
       "DRIVING_FLAG                           0\n",
       "PASSPORT_FLAG                          0\n",
       "PERFORM_CNS_SCORE                      0\n",
       "PERFORM_CNS_SCORE_DESCRIPTION          0\n",
       "PRI_NO_OF_ACCTS                        0\n",
       "PRI_ACTIVE_ACCTS                       0\n",
       "PRI_OVERDUE_ACCTS                      0\n",
       "PRI_CURRENT_BALANCE                    0\n",
       "PRI_SANCTIONED_AMOUNT                  0\n",
       "PRI_DISBURSED_AMOUNT                   0\n",
       "SEC_NO_OF_ACCTS                        0\n",
       "SEC_ACTIVE_ACCTS                       0\n",
       "SEC_OVERDUE_ACCTS                      0\n",
       "SEC_CURRENT_BALANCE                    0\n",
       "SEC_SANCTIONED_AMOUNT                  0\n",
       "SEC_DISBURSED_AMOUNT                   0\n",
       "PRIMARY_INSTAL_AMT                     0\n",
       "SEC_INSTAL_AMT                         0\n",
       "NEW_ACCTS_IN_LAST_SIX_MONTHS           0\n",
       "DELINQUENT_ACCTS_IN_LAST_SIX_MONTHS    0\n",
       "NO_OF_INQUIRIES                        0\n",
       "LOAN_DEFAULT                           0\n",
       "AGE                                    0\n",
       "DISBURSAL_MONTH                        0\n",
       "AVERAGE_ACCT_AGE_MONTHS                0\n",
       "CREDIT_HISTORY_LENGTH_MONTHS           0\n",
       "DISBURSED_AMOUNT_CAT                   0\n",
       "DISBURSAL_DIFFERENCE                   0\n",
       "TOTAL_ACCTS                            0\n",
       "TOTAL_ACTIVE_ACCTS                     0\n",
       "TOTAL_OVERDUE_ACCTS                    0\n",
       "TOTAL_CURRENT_BALANCE                  0\n",
       "TOTAL_SANCTIONED_AMOUNT                0\n",
       "TOTAL_DISBURSED_AMOUNT                 0\n",
       "TOTAL_INSTAL_AMT                       0\n",
       "OVERDUE_PCT                            0\n",
       "dtype: int64"
      ]
     },
     "execution_count": 35,
     "metadata": {},
     "output_type": "execute_result"
    }
   ],
   "source": [
    "#double check missing values\n",
    "loan_df.apply(lambda x : sum(x.isnull()))"
   ]
  },
  {
   "cell_type": "markdown",
   "metadata": {},
   "source": [
    "Brilliant, our new OVERDUE_PCT column no longer has any missing values. \n",
    "\n",
    "We have done a lot of feature engineering so far, so let's use the [info](https://pandas.pydata.org/pandas-docs/stable/reference/api/pandas.DataFrame.info.html) function to take a look at our columns"
   ]
  },
  {
   "cell_type": "code",
   "execution_count": 46,
   "metadata": {},
   "outputs": [
    {
     "name": "stdout",
     "output_type": "stream",
     "text": [
      "<class 'pandas.core.frame.DataFrame'>\n",
      "Int64Index: 233154 entries, 420825 to 630213\n",
      "Data columns (total 36 columns):\n",
      " #   Column                               Non-Null Count   Dtype   \n",
      "---  ------                               --------------   -----   \n",
      " 0   DISBURSED_AMOUNT                     233154 non-null  int64   \n",
      " 1   ASSET_COST                           233154 non-null  int64   \n",
      " 2   LTV                                  233154 non-null  float64 \n",
      " 3   BRANCH_ID                            233154 non-null  int64   \n",
      " 4   SUPPLIER_ID                          233154 non-null  int64   \n",
      " 5   MANUFACTURER_ID                      233154 non-null  int64   \n",
      " 6   CURRENT_PINCODE_ID                   233154 non-null  int64   \n",
      " 7   EMPLOYMENT_TYPE                      233154 non-null  object  \n",
      " 8   STATE_ID                             233154 non-null  int64   \n",
      " 9   EMPLOYEE_CODE_ID                     233154 non-null  int64   \n",
      " 10  MOBILENO_AVL_FLAG                    233154 non-null  int64   \n",
      " 11  AADHAR_FLAG                          233154 non-null  int64   \n",
      " 12  PAN_FLAG                             233154 non-null  int64   \n",
      " 13  VOTERID_FLAG                         233154 non-null  int64   \n",
      " 14  DRIVING_FLAG                         233154 non-null  int64   \n",
      " 15  PASSPORT_FLAG                        233154 non-null  int64   \n",
      " 16  PERFORM_CNS_SCORE                    233154 non-null  int64   \n",
      " 17  PERFORM_CNS_SCORE_DESCRIPTION        233154 non-null  object  \n",
      " 18  NEW_ACCTS_IN_LAST_SIX_MONTHS         233154 non-null  int64   \n",
      " 19  DELINQUENT_ACCTS_IN_LAST_SIX_MONTHS  233154 non-null  int64   \n",
      " 20  NO_OF_INQUIRIES                      233154 non-null  int64   \n",
      " 21  LOAN_DEFAULT                         233154 non-null  int64   \n",
      " 22  AGE                                  233154 non-null  int64   \n",
      " 23  DISBURSAL_MONTH                      233154 non-null  int64   \n",
      " 24  AVERAGE_ACCT_AGE_MONTHS              233154 non-null  int64   \n",
      " 25  CREDIT_HISTORY_LENGTH_MONTHS         233154 non-null  int64   \n",
      " 26  DISBURSED_AMOUNT_CAT                 233154 non-null  category\n",
      " 27  DISBURSAL_DIFFERENCE                 233154 non-null  int64   \n",
      " 28  TOTAL_ACCTS                          233154 non-null  int64   \n",
      " 29  TOTAL_ACTIVE_ACCTS                   233154 non-null  int64   \n",
      " 30  TOTAL_OVERDUE_ACCTS                  233154 non-null  int64   \n",
      " 31  TOTAL_CURRENT_BALANCE                233154 non-null  int64   \n",
      " 32  TOTAL_SANCTIONED_AMOUNT              233154 non-null  int64   \n",
      " 33  TOTAL_DISBURSED_AMOUNT               233154 non-null  int64   \n",
      " 34  TOTAL_INSTAL_AMT                     233154 non-null  int64   \n",
      " 35  OVERDUE_PCT                          233154 non-null  float64 \n",
      "dtypes: category(1), float64(2), int64(31), object(2)\n",
      "memory usage: 72.3+ MB\n"
     ]
    }
   ],
   "source": [
    "#take a look at remaining columns\n",
    "loan_df.info()"
   ]
  },
  {
   "cell_type": "markdown",
   "metadata": {},
   "source": [
    "Nice! We have reduced our number of columns to 31\n",
    "\n",
    "Also, notice the presence of our new columns at the bottom of the list."
   ]
  },
  {
   "cell_type": "markdown",
   "metadata": {},
   "source": [
    "## Lesson 3 - Scaling \n",
    "\n",
    "- We will use min max scaling to bring our continuous variables into the same range \n",
    "- Outliers have been observed in the data. However, we will keep them as they appear to be legitimate\n",
    "- Sklearn provides an implementation of Min Max scaling, [MinMaxScaler](https://scikit-learn.org/stable/modules/generated/sklearn.preprocessing.MinMaxScaler.html)\n",
    "\n",
    "First, we create a list of our continuous columns \n",
    "- We can use this list to select the continuous variables from our dataframe without typing a long list of column names each time \n",
    "- We don't need to scale our categoricals or binaries\n",
    "\n"
   ]
  },
  {
   "cell_type": "code",
   "execution_count": 47,
   "metadata": {},
   "outputs": [],
   "source": [
    "#create list of numeric columns\n",
    "numeric_cols = ['DISBURSED_AMOUNT', \n",
    "                'ASSET_COST', \n",
    "                'LTV', \n",
    "                'NEW_ACCTS_IN_LAST_SIX_MONTHS', \n",
    "                'DELINQUENT_ACCTS_IN_LAST_SIX_MONTHS', \n",
    "                'NO_OF_INQUIRIES', \n",
    "                'AGE', \n",
    "                'AVERAGE_ACCT_AGE_MONTHS', \n",
    "                'CREDIT_HISTORY_LENGTH_MONTHS',\n",
    "                'PERFORM_CNS_SCORE',\n",
    "                'TOTAL_ACCTS',\n",
    "                'TOTAL_ACTIVE_ACCTS',\n",
    "                'TOTAL_OVERDUE_ACCTS',\n",
    "                'TOTAL_CURRENT_BALANCE', \n",
    "                'TOTAL_SANCTIONED_AMOUNT', \n",
    "                'TOTAL_DISBURSED_AMOUNT', \n",
    "                'TOTAL_INSTAL_AMT', \n",
    "                'OVERDUE_PCT', \n",
    "                'DISBURSAL_DIFFERENCE']"
   ]
  },
  {
   "cell_type": "markdown",
   "metadata": {},
   "source": [
    "Let's look at the numeric columns so we have a reference. \n",
    "\n",
    "We can plot multiple columns on the same plot using pandas [boxplot](https://pandas.pydata.org/pandas-docs/stable/reference/api/pandas.DataFrame.boxplot.html)"
   ]
  },
  {
   "cell_type": "code",
   "execution_count": 49,
   "metadata": {},
   "outputs": [
    {
     "data": {
      "image/png": "[encoded data removed]",
      "text/plain": [
       "<Figure size 432x288 with 1 Axes>"
      ]
     },
     "metadata": {
      "needs_background": "light"
     },
     "output_type": "display_data"
    }
   ],
   "source": [
    "#visualize the problem\n",
    "loan_df[['LTV', 'ASSET_COST', 'AGE']].boxplot()\n",
    "plt.show()"
   ]
  },
  {
   "cell_type": "markdown",
   "metadata": {},
   "source": [
    "Observe that the numeric values are distributed across very different scales.\n",
    "\n",
    "Let's fix this problem using Min Max Scaling. \n",
    "\n",
    "First we need to create an instance of [MinMaxScaler](https://scikit-learn.org/stable/modules/generated/sklearn.preprocessing.MinMaxScaler.html) "
   ]
  },
  {
   "cell_type": "code",
   "execution_count": 50,
   "metadata": {},
   "outputs": [],
   "source": [
    "#create instance of min max scaler\n",
    "mm_scaler = MinMaxScaler()"
   ]
  },
  {
   "cell_type": "markdown",
   "metadata": {},
   "source": [
    "We can use [fit_transform](https://scikit-learn.org/stable/modules/generated/sklearn.preprocessing.MinMaxScaler.html#sklearn.preprocessing.MinMaxScaler.fit_transform) to fit the scaler to our data and perform the scaling"
   ]
  },
  {
   "cell_type": "code",
   "execution_count": 51,
   "metadata": {},
   "outputs": [],
   "source": [
    "#apply fit transform\n",
    "loan_df[numeric_cols] =  mm_scaler.fit_transform(loan_df[numeric_cols])"
   ]
  },
  {
   "cell_type": "markdown",
   "metadata": {},
   "source": [
    "Let's have a quick look at the boxplots now"
   ]
  },
  {
   "cell_type": "code",
   "execution_count": 53,
   "metadata": {},
   "outputs": [
    {
     "data": {
      "image/png": "[encoded data removed]",
      "text/plain": [
       "<Figure size 432x288 with 1 Axes>"
      ]
     },
     "metadata": {
      "needs_background": "light"
     },
     "output_type": "display_data"
    }
   ],
   "source": [
    "#visualize transformed column\n",
    "loan_df[['LTV', 'ASSET_COST', 'AGE']].boxplot()\n",
    "plt.show()"
   ]
  },
  {
   "cell_type": "markdown",
   "metadata": {},
   "source": [
    "Now all the values are ranged between 1 and 0\n",
    "\n",
    "Take some time now to look at some of our other numeric columns after we have scaled them"
   ]
  },
  {
   "cell_type": "markdown",
   "metadata": {},
   "source": [
    "## Conclusion\n",
    "\n",
    "- In this chapter, we have performed some basic feature engineering \n",
    "- We have created a new categorical column using binning on 'DISBURSED_AMOUNT'\n",
    "- We have combined features to create new ones \n",
    "- We have performed MinMax scaling on our numeric variables\n",
    "\n",
    "Let's save our data to file!"
   ]
  },
  {
   "cell_type": "code",
   "execution_count": 54,
   "metadata": {},
   "outputs": [],
   "source": [
    "#save our data\n",
    "loan_df.to_csv('../data/vehicle_loans_feat.csv')"
   ]
  },
  {
   "cell_type": "code",
   "execution_count": null,
   "metadata": {},
   "outputs": [],
   "source": []
  }
 ],
 "metadata": {
  "kernelspec": {
   "display_name": "Python 3 (ipykernel)",
   "language": "python",
   "name": "python3"
  },
  "language_info": {
   "codemirror_mode": {
    "name": "ipython",
    "version": 3
   },
   "file_extension": ".py",
   "mimetype": "text/x-python",
   "name": "python",
   "nbconvert_exporter": "python",
   "pygments_lexer": "ipython3",
   "version": "3.9.7"
  }
 },
 "nbformat": 4,
 "nbformat_minor": 2
}
