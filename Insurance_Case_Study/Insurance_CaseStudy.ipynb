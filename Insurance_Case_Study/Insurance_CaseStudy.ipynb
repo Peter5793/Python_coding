{
 "cells": [
  {
   "cell_type": "markdown",
   "id": "636ff57a",
   "metadata": {},
   "source": [
    "<html>\n",
    "    <img src=https://th.bing.com/th/id/R.b3374ffe111d8d33380c6c1e81cbdd6c?rik=UNq5txVOUzDcww&riu=http%3a%2f%2fnewplayersnetwork.jetzt%2fwp-content%2fuploads%2f2020%2f01%2fhepster_neu.png&ehk=daAEOXDEbSE6HcuisOn8QU7PGxz6F3EFGYOV%2fbyeJ5o%3d&risl=&pid=ImgRaw&r=0 alt=\"Girl in a jacket\" width=\"200\" height=\"300\">\n",
    "   \n",
    "</html>"
   ]
  },
  {
   "cell_type": "markdown",
   "id": "a3bba9cc",
   "metadata": {},
   "source": [
    "<html>\n",
    "    <div>\n",
    "        <div style = \"text-align: center\"> \n",
    "            <h1>\n",
    "            INSURANCE CASE STUDY\n",
    "            </h1>\n",
    "        </div>\n",
    "        <div>\n",
    "            <h3>\n",
    "                 OBJECTIVE\n",
    "            </h3>\n",
    "            <p>\n",
    "                Determine the credit score  as either good or bad for entries, using Logistic Regression.\n",
    "            </p>\n",
    "            <h3>\n",
    "                 METHODOLOGY\n",
    "            </h3>\n",
    "            <p>\n",
    "                <u>\n",
    "                    <li>Load and Clean Data</li>\n",
    "                    <li>Exploratory Data Analysis (EDA)</li>\n",
    "                    <li>Feature Engineering</li>\n",
    "                    <li>Classification with Logistic Regression</li>\n",
    "                    <li>Model Evaluation</li>\n",
    "                    <li>Classification with Random Forest</li>\n",
    "                    <li>Improving Accuracy</li>\n",
    "                    <li>Export CSV</li>\n",
    "                    <li>Reporting and Visualization</li>\n",
    "                </u>\n",
    "            </p>\n",
    "            <h3>\n",
    "                APPENDIX\n",
    "            </h3>\n",
    "        </div>\n",
    "      </div>\n",
    "    </html>\n"
   ]
  },
  {
   "cell_type": "markdown",
   "id": "eaaa7fa1",
   "metadata": {},
   "source": [
    "<html>\n",
    " </html>"
   ]
  },
  {
   "cell_type": "code",
   "execution_count": 9,
   "id": "7c63a316",
   "metadata": {},
   "outputs": [],
   "source": [
    "# import the neccesary packages\n",
    "import pandas as pd\n",
    "import numpy as np\n",
    "import matplotlib.pyplot as plt\n",
    "import seaborn as sns\n",
    "import plotly.express as px\n",
    "from sklearn.model_selection import train_test_split\n",
    "from sklearn.metrics import confusion_matrix"
   ]
  },
  {
   "cell_type": "markdown",
   "id": "c48bb12a",
   "metadata": {},
   "source": [
    "## LOAD AND CLEAN DATA"
   ]
  },
  {
   "cell_type": "code",
   "execution_count": null,
   "id": "229732f9",
   "metadata": {},
   "outputs": [],
   "source": [
    "\n",
    "# import data\n",
    "df = pd.read_csv('../data/case_hepster.csv',sep = ';')\n",
    "df"
   ]
  },
  {
   "cell_type": "code",
   "execution_count": 5,
   "id": "a060c4e3",
   "metadata": {},
   "outputs": [
    {
     "name": "stdout",
     "output_type": "stream",
     "text": [
      "<class 'pandas.core.frame.DataFrame'>\n",
      "RangeIndex: 1000 entries, 0 to 999\n",
      "Data columns (total 22 columns):\n",
      " #   Column                                                    Non-Null Count  Dtype \n",
      "---  ------                                                    --------------  ----- \n",
      " 0   row ID                                                    1000 non-null   object\n",
      " 1   Status of existing checking account                       1000 non-null   object\n",
      " 2   Duration in months                                        1000 non-null   int64 \n",
      " 3   Credit history                                            1000 non-null   object\n",
      " 4   Purpose                                                   1000 non-null   object\n",
      " 5   Credit amount                                             1000 non-null   int64 \n",
      " 6   Savings account/bonds                                     1000 non-null   object\n",
      " 7   Present employment since                                  1000 non-null   object\n",
      " 8   Installment rate in percentage of disposable income       1000 non-null   int64 \n",
      " 9   Personal status and sex                                   1000 non-null   object\n",
      " 10  Other debtors / guarantors                                1000 non-null   object\n",
      " 11  Present residence since                                   1000 non-null   int64 \n",
      " 12  Property                                                  1000 non-null   object\n",
      " 13  Age in years                                              1000 non-null   int64 \n",
      " 14  Other installment plans                                   1000 non-null   object\n",
      " 15  Housing                                                   1000 non-null   object\n",
      " 16  Number of existing credits at this bank                   1000 non-null   int64 \n",
      " 17  Job                                                       1000 non-null   object\n",
      " 18  Number of people being liable to provide maintenance for  1000 non-null   int64 \n",
      " 19  Telephone                                                 1000 non-null   object\n",
      " 20  Foreign worker                                            1000 non-null   object\n",
      " 21  Score                                                     1000 non-null   object\n",
      "dtypes: int64(7), object(15)\n",
      "memory usage: 172.0+ KB\n"
     ]
    }
   ],
   "source": [
    "df.info()"
   ]
  },
  {
   "cell_type": "code",
   "execution_count": 7,
   "id": "37945468",
   "metadata": {},
   "outputs": [
    {
     "data": {
      "text/plain": [
       "array(['good', 'bad'], dtype=object)"
      ]
     },
     "execution_count": 7,
     "metadata": {},
     "output_type": "execute_result"
    }
   ],
   "source": [
    "df['Score'].unique()"
   ]
  },
  {
   "cell_type": "code",
   "execution_count": null,
   "id": "6bcdd152",
   "metadata": {},
   "outputs": [],
   "source": []
  }
 ],
 "metadata": {
  "kernelspec": {
   "display_name": "Python 3 (ipykernel)",
   "language": "python",
   "name": "python3"
  },
  "language_info": {
   "codemirror_mode": {
    "name": "ipython",
    "version": 3
   },
   "file_extension": ".py",
   "mimetype": "text/x-python",
   "name": "python",
   "nbconvert_exporter": "python",
   "pygments_lexer": "ipython3",
   "version": "3.9.7"
  }
 },
 "nbformat": 4,
 "nbformat_minor": 5
}
